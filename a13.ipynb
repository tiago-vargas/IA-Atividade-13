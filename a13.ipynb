{
 "cells": [
  {
   "cell_type": "markdown",
   "metadata": {},
   "source": [
    "# Atividade 13\n",
    "\n",
    "## Tiago Vargas Pereira de Oliveira\n",
    "\n",
    "#### 2021045050365"
   ]
  },
  {
   "cell_type": "code",
   "execution_count": 1,
   "metadata": {},
   "outputs": [],
   "source": [
    "import numpy as np\n",
    "import math\n",
    "\n",
    "from numpy.linalg import pinv\n"
   ]
  },
  {
   "cell_type": "code",
   "execution_count": 2,
   "metadata": {},
   "outputs": [],
   "source": [
    "sigmoid = np.vectorize(lambda x: 1 / (1 + math.exp(-x)))\n"
   ]
  },
  {
   "cell_type": "markdown",
   "metadata": {},
   "source": [
    "# Q1\n",
    "\n",
    "**Implemente a RNA ELM com as seguintes saídas e entradas.**\n",
    "\n",
    "**Entradas: `[1 1 1; 0 1 1; 1 0 1; 1 1 0; 0 0 1; 0 1 0; 1 0 0; 0 0 0 ]`.**\n",
    "\n",
    "**Saída: `[1; 0; 0; 0; 0; 0; 0; 0]`.**"
   ]
  },
  {
   "cell_type": "code",
   "execution_count": 3,
   "metadata": {},
   "outputs": [],
   "source": [
    "X = np.array([[1, 1, 1], [0, 1, 1], [1, 0, 1], [1, 1, 0], [0, 0, 1], [0, 1, 0], [1, 0, 0], [0, 0, 0]])\n",
    "T = np.array([1, 0, 0, 0, 0, 0, 0, 0])\n",
    "\n",
    "w = np.random.random([3, 2])  # 2 neurônios na camada oculta\n"
   ]
  },
  {
   "cell_type": "code",
   "execution_count": 4,
   "metadata": {},
   "outputs": [],
   "source": [
    "H = sigmoid(X @ w)\n",
    "betha = pinv(H) @ T\n"
   ]
  },
  {
   "cell_type": "markdown",
   "metadata": {},
   "source": [
    "Os pesos da camada oculta pra de saída são:"
   ]
  },
  {
   "cell_type": "code",
   "execution_count": 5,
   "metadata": {},
   "outputs": [
    {
     "name": "stdout",
     "output_type": "stream",
     "text": [
      "[0.08896787 0.12604045]\n"
     ]
    }
   ],
   "source": [
    "print(betha)\n"
   ]
  },
  {
   "cell_type": "markdown",
   "metadata": {},
   "source": [
    "# Q2\n",
    "\n",
    "**Implemente a RNA ELM para a porta AND com duas entradas e uma saída.**"
   ]
  },
  {
   "cell_type": "code",
   "execution_count": 6,
   "metadata": {},
   "outputs": [],
   "source": [
    "X = np.array([[0, 0], [0, 1], [1, 0], [1, 1]])\n",
    "T = np.array([[0], [0], [0], [1]])\n",
    "\n",
    "w = np.random.random([2, 2])  # 2 neurônios na camada oculta\n"
   ]
  },
  {
   "cell_type": "code",
   "execution_count": 7,
   "metadata": {},
   "outputs": [],
   "source": [
    "H = sigmoid(X @ w)\n",
    "betha = pinv(H) @ T\n"
   ]
  },
  {
   "cell_type": "markdown",
   "metadata": {},
   "source": [
    "Os pesos da camada oculta pra de saída são:"
   ]
  },
  {
   "cell_type": "code",
   "execution_count": 8,
   "metadata": {},
   "outputs": [
    {
     "name": "stdout",
     "output_type": "stream",
     "text": [
      "[[ 4.31579648]\n",
      " [-4.07285839]]\n"
     ]
    }
   ],
   "source": [
    "print(betha)\n"
   ]
  },
  {
   "cell_type": "markdown",
   "metadata": {},
   "source": [
    "# Q3\n",
    "\n",
    "**Implemente a RNA ELM para a porta OR com duas entradas e uma saída.**"
   ]
  },
  {
   "cell_type": "code",
   "execution_count": 9,
   "metadata": {},
   "outputs": [],
   "source": [
    "X = np.array([[0, 0], [0, 1], [1, 0], [1, 1]])\n",
    "T = np.array([[0], [1], [1], [1]])\n",
    "\n",
    "w = np.random.random([2, 2])  # 2 neurônios na camada oculta\n"
   ]
  },
  {
   "cell_type": "code",
   "execution_count": 10,
   "metadata": {},
   "outputs": [],
   "source": [
    "H = sigmoid(X @ w)\n",
    "betha = pinv(H) @ T\n"
   ]
  },
  {
   "cell_type": "markdown",
   "metadata": {},
   "source": [
    "Os pesos da camada oculta pra de saída são:"
   ]
  },
  {
   "cell_type": "code",
   "execution_count": 11,
   "metadata": {},
   "outputs": [
    {
     "name": "stdout",
     "output_type": "stream",
     "text": [
      "[[-5.44250859]\n",
      " [ 6.39542313]]\n"
     ]
    }
   ],
   "source": [
    "print(betha)\n"
   ]
  },
  {
   "cell_type": "markdown",
   "metadata": {},
   "source": [
    "# Q3\n",
    "\n",
    "**Implemente a RNA ELM para a porta OR com três entradas e uma saída.**"
   ]
  },
  {
   "cell_type": "code",
   "execution_count": 12,
   "metadata": {},
   "outputs": [],
   "source": [
    "X = np.array([[0, 0, 0], [0, 0, 1], [0, 1, 0], [0, 1, 1], [1, 0, 0], [1, 0, 1], [1, 1, 0], [1, 1, 1]])\n",
    "T = np.array([[0], [1], [1], [1], [1], [1], [1], [1]])\n",
    "\n",
    "w = np.random.random([3, 2])  # 2 neurônios na camada oculta\n"
   ]
  },
  {
   "cell_type": "code",
   "execution_count": 13,
   "metadata": {},
   "outputs": [],
   "source": [
    "H = sigmoid(X @ w)\n",
    "betha = pinv(H) @ T\n"
   ]
  },
  {
   "cell_type": "markdown",
   "metadata": {},
   "source": [
    "Os pesos da camada oculta pra de saída são:"
   ]
  },
  {
   "cell_type": "code",
   "execution_count": 14,
   "metadata": {},
   "outputs": [
    {
     "name": "stdout",
     "output_type": "stream",
     "text": [
      "[[0.39123606]\n",
      " [0.9960493 ]]\n"
     ]
    }
   ],
   "source": [
    "print(betha)\n"
   ]
  }
 ],
 "metadata": {
  "kernelspec": {
   "display_name": ".venv",
   "language": "python",
   "name": "python3"
  },
  "language_info": {
   "codemirror_mode": {
    "name": "ipython",
    "version": 3
   },
   "file_extension": ".py",
   "mimetype": "text/x-python",
   "name": "python",
   "nbconvert_exporter": "python",
   "pygments_lexer": "ipython3",
   "version": "3.11.6"
  }
 },
 "nbformat": 4,
 "nbformat_minor": 2
}
