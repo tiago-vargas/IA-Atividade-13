{
 "cells": [
  {
   "cell_type": "markdown",
   "metadata": {},
   "source": [
    "# Atividade 13\n",
    "\n",
    "## Tiago Vargas Pereira de Oliveira\n",
    "\n",
    "#### 2021045050365"
   ]
  },
  {
   "cell_type": "markdown",
   "metadata": {},
   "source": [
    "# Q1\n",
    "\n",
    "**Implemente a RNA ELM com as seguintes saídas e entradas.**\n",
    "\n",
    "**Entradas: `[1 1 1; 0 1 1; 1 0 1; 1 1 0; 0 0 1; 0 1 0; 1 0 0; 0 0 0 ]`.**\n",
    "\n",
    "**Saída: `[1; 0; 0; 0; 0; 0; 0; 0]`.**"
   ]
  },
  {
   "cell_type": "markdown",
   "metadata": {},
   "source": [
    "# Q2\n",
    "\n",
    "**Implemente a RNA ELM para a porta AND com duas entradas e uma saída.**"
   ]
  },
  {
   "cell_type": "markdown",
   "metadata": {},
   "source": [
    "# Q3\n",
    "\n",
    "**Implemente a RNA ELM para a porta OR com duas entradas e uma saída.**"
   ]
  },
  {
   "cell_type": "markdown",
   "metadata": {},
   "source": [
    "# Q3\n",
    "\n",
    "**Implemente a RNA ELM para a porta OR com três entradas e uma saída.**"
   ]
  }
 ],
 "metadata": {
  "kernelspec": {
   "display_name": ".venv",
   "language": "python",
   "name": "python3"
  },
  "language_info": {
   "codemirror_mode": {
    "name": "ipython",
    "version": 3
   },
   "file_extension": ".py",
   "mimetype": "text/x-python",
   "name": "python",
   "nbconvert_exporter": "python",
   "pygments_lexer": "ipython3",
   "version": "3.11.6"
  }
 },
 "nbformat": 4,
 "nbformat_minor": 2
}
